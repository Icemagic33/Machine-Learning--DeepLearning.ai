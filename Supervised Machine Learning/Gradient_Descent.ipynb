{
 "cells": [
  {
   "cell_type": "code",
   "execution_count": 2,
   "id": "51428511-18a0-4e63-99bf-ebae45cad97c",
   "metadata": {},
   "outputs": [],
   "source": [
    "import numpy as np"
   ]
  },
  {
   "cell_type": "markdown",
   "id": "fe0eeab1-c9e0-4e7f-82bd-56ac65221968",
   "metadata": {},
   "source": [
    "Let \n",
    "\n",
    "    m = # of training examples, \n",
    "    \n",
    "    n = # of features \n",
    "    \n",
    "the following: \n",
    "    \n",
    "    y is R^(1 x m) \n",
    "    \n",
    "    X is R^(n x m)\n",
    "    \n",
    "    w is R^(n x 1)"
   ]
  },
  {
   "cell_type": "code",
   "execution_count": 18,
   "id": "8513cba5-0414-430a-9630-f12348c6b328",
   "metadata": {},
   "outputs": [],
   "source": [
    "class linearRegression():\n",
    "    def __init__(self):\n",
    "        self.learning_rate = 1e-2\n",
    "        self.total_iterations = 10000\n",
    "\n",
    "    def y_hat(self, X, w): #yhat = w1x1 + w2x2 + w3x3 + ... (where x1 = 1)\n",
    "        return np.dot(w.T, X)\n",
    "        \n",
    "\n",
    "    def loss(self, yhat, y):\n",
    "        L = 1/self.m * np.sum(np.power((yhat - y), 2))\n",
    "        return L \n",
    "\n",
    "    def gradient_descent(self, w, X, y, yhat):\n",
    "        # size of y:(1 x m), # size of X: (n x m)\n",
    "        # we want n x 1\n",
    "        dLdw = 2/self.m * np.dot(X, (yhat - y).T)\n",
    "\n",
    "        w = w - self.learning_rate * dLdw\n",
    "        return w \n",
    "        \n",
    "\n",
    "    def main(self, X, y):\n",
    "        x1 = np.ones((1, X.shape[1]))\n",
    "        X = np.append(X, x1, axis=0)\n",
    "\n",
    "        self.m = X.shape[1]\n",
    "        self.n = X.shape[0]\n",
    "\n",
    "        w = np.zeros((self.n, 1))\n",
    "\n",
    "        for it in range(self.total_iterations + 1):\n",
    "            yhat = self.y_hat(X, w)\n",
    "            loss = self.loss(yhat, y)\n",
    "\n",
    "            if it % 2000 == 0:\n",
    "                print(f'Loss at iteration {it} is {loss}')\n",
    "\n",
    "            w = self.gradient_descent(w, X, y, yhat)\n",
    "\n",
    "        return w"
   ]
  },
  {
   "cell_type": "code",
   "execution_count": 19,
   "id": "69416613-d67a-4ab4-abb9-50b7bb390835",
   "metadata": {},
   "outputs": [
    {
     "name": "stdout",
     "output_type": "stream",
     "text": [
      "Loss at iteration 0 is 2.885176841420223\n",
      "Loss at iteration 2000 is 0.011753706366273547\n",
      "Loss at iteration 4000 is 0.009741031698118989\n",
      "Loss at iteration 6000 is 0.009732638240890958\n",
      "Loss at iteration 8000 is 0.009732603237656033\n",
      "Loss at iteration 10000 is 0.009732603091682042\n"
     ]
    }
   ],
   "source": [
    "if __name__ == '__main__':\n",
    "    X = np.random.rand(1, 500) # y = w1 + w2x2 -> straight line in 2D\n",
    "    y = 3 * X + np.random.randn(1, 500) * 0.1\n",
    "    regression = linearRegression()\n",
    "    w = regression.main(X, y)\n",
    "    "
   ]
  },
  {
   "cell_type": "code",
   "execution_count": null,
   "id": "33f94bf1-b367-43eb-9901-b929635e4db7",
   "metadata": {},
   "outputs": [],
   "source": []
  }
 ],
 "metadata": {
  "kernelspec": {
   "display_name": "Python 3 (ipykernel)",
   "language": "python",
   "name": "python3"
  },
  "language_info": {
   "codemirror_mode": {
    "name": "ipython",
    "version": 3
   },
   "file_extension": ".py",
   "mimetype": "text/x-python",
   "name": "python",
   "nbconvert_exporter": "python",
   "pygments_lexer": "ipython3",
   "version": "3.9.12"
  }
 },
 "nbformat": 4,
 "nbformat_minor": 5
}
